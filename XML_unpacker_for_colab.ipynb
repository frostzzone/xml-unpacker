{
  "nbformat": 4,
  "nbformat_minor": 0,
  "metadata": {
    "colab": {
      "name": "XML unpacker on colab",
      "provenance": [],
      "collapsed_sections": []
    },
    "kernelspec": {
      "display_name": "Python 3",
      "name": "python3"
    }
  },
  "cells": [
    {
      "cell_type": "markdown",
      "metadata": {
        "id": "syEnqTmcbkrB"
      },
      "source": [
        "# Code"
      ]
    },
    {
      "cell_type": "code",
      "metadata": {
        "id": "GK80BvwjdWUF"
      },
      "source": [
        "from google.colab import drive\n",
        "drive.mount('/content/drive')"
      ],
      "execution_count": null,
      "outputs": []
    },
    {
      "cell_type": "code",
      "metadata": {
        "id": "wTQ7F1xVbvET"
      },
      "source": [
        "%cd /content/drive/MyDrive/Code"
      ],
      "execution_count": null,
      "outputs": []
    },
    {
      "cell_type": "code",
      "metadata": {
        "id": "e21rcxdkhNxM"
      },
      "source": [
        "\"\"\"\n",
        "Python script to extract images from XML/PNG pairs (I've used it for FNF)\n",
        "Scans the \"d\" directory for any XML and PNG pairs, and if it finds them, creates a new folder in the \"out\" directory with the same name as the images\n",
        "Note that it won't output images in the \"d\" directory if they have no corresponding XML file\n",
        "\n",
        "Requires os, PIL, BeautifulSoup, lxml (html reader for BeautifulSoup) and re\n",
        "\"\"\"\n",
        "# Change this to the game's images folder (the one with the textures and XML files). \n",
        "d = r\"/content/drive/MyDrive/\"\n",
        "\n",
        "# Change this to the folder you want the final, separated textures to be outputted.\n",
        "out = r\"/content/drive/MyDrive/\"\n",
        "\n",
        "import os\n",
        "from PIL import Image\n",
        "from bs4 import BeautifulSoup\n",
        "import re\n",
        "\n",
        "print(\"parsing\")\n",
        "for path, currentDirectory, files in os.walk(d):\n",
        "    for file in files:\n",
        "        if file.endswith(\".xml\"):\n",
        "            print(f\"! found {file}\")\n",
        "            namewithoutfile = file.split(\".\")[0]\n",
        "            try:\n",
        "                os.mkdir(out + \"/\" + file.split(\".\")[0])\n",
        "            except:\n",
        "                print(f\"Already done {file}, continuing\")\n",
        "                continue\n",
        "            wholeimage = Image.open(os.path.join(path, file.replace(\".xml\", \".png\")))\n",
        "            with open(os.path.join(path, file)) as xmldata:\n",
        "                soup = BeautifulSoup(xmldata.read(), \"lxml\")\n",
        "            allsubtx = soup.find_all(\"subtexture\")\n",
        "            uniquex = []\n",
        "            uniquey = []\n",
        "            for subtx in allsubtx:\n",
        "                name = re.sub(r'[^A-Za-z0-9 _%]+', '', subtx[\"name\"])\n",
        "                left = int(subtx[\"x\"])\n",
        "                top = int(subtx[\"y\"])\n",
        "                if left in uniquex and top in uniquey and uniquey[uniquex.index(left)] == top:\n",
        "                    continue\n",
        "                else:\n",
        "                    uniquex.append(left)\n",
        "                    uniquey.append(top)\n",
        "                right = left + int(subtx[\"width\"])\n",
        "                bottom = top + int(subtx[\"height\"])\n",
        "                subimg = wholeimage.crop((left, top, right, bottom))\n",
        "                try:\n",
        "                    subimg.save(f\"{out}/{namewithoutfile}/{name}.png\")\n",
        "                    print(f\"> saved {name}.png\")\n",
        "                except Exception as e:\n",
        "                    print(f\"!> error saving {name}.png - {e}\")\n",
        "print(\"done\")"
      ],
      "execution_count": null,
      "outputs": []
    }
  ]
}
